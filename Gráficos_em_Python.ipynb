{
  "nbformat": 4,
  "nbformat_minor": 0,
  "metadata": {
    "colab": {
      "name": "Gráficos em Python.ipynb",
      "provenance": []
    },
    "kernelspec": {
      "name": "python3",
      "display_name": "Python 3"
    },
    "language_info": {
      "name": "python"
    }
  },
  "cells": [
    {
      "cell_type": "markdown",
      "source": [
        " Criando gráficos em Python.\n",
        "\n",
        " O Python é muito bom para analisar dados e criar gráficos. Vou documentar a criação de alguns gráficos como histogramas e dispersão."
      ],
      "metadata": {
        "id": "gGoG-xKsx32I"
      }
    },
    {
      "cell_type": "markdown",
      "source": [
        "**Histogramas**\n",
        "\n",
        "Criar histogramas com python é fácil utilizando bibliotecas como matplolib e seaborn por exemplo.\n",
        "\n",
        "Escolhi um histograma das idades dos alunos presente no livro que utilizamos na aula de mecânica.\n",
        "\n",
        "Uma das formas é definindo um bom bins, no caso do exemplo abaixo, escolhi um intervalor(range) entre 18 e 38 anos. Mas pode ser feito de um jeito manual também, escolhendo bins = 3 por exemplo."
      ],
      "metadata": {
        "id": "lL2f1QZx0Fte"
      }
    },
    {
      "cell_type": "code",
      "execution_count": 29,
      "metadata": {
        "colab": {
          "base_uri": "https://localhost:8080/",
          "height": 297
        },
        "id": "2Lp3yqISufoq",
        "outputId": "fff894ee-3adf-4b28-d479-2ca8aa1fe689"
      },
      "outputs": [
        {
          "output_type": "display_data",
          "data": {
            "text/plain": [
              "<Figure size 432x288 with 1 Axes>"
            ],
            "image/png": "[encoded data removed]"
          },
          "metadata": {
            "needs_background": "light"
          }
        }
      ],
      "source": [
        "import pandas as pd\n",
        "import matplotlib.pyplot as plt\n",
        "import numpy as np\n",
        "\n",
        "tabela = pd.read_excel('Histogramas.xlsx') #Aqui importamos os dados em Excel\n",
        "\n",
        "\n",
        "# Criando o histograma para os dados da altura\n",
        "# bins = range(17, 38) é o intervalo dos dados entre as idades entre 17 e 38\n",
        "# rwidth : É um parâmetro opcional, é a largura relativa das barras \n",
        "# edgecolor é a cor entre as barras\n",
        "plt.hist(tabela['Idade'], bins=range(17,38),rwidth=1,edgecolor=\"black\")\n",
        "\n",
        "# Colocando o título no histograma\n",
        "plt.title(\"Histograma Idade\")\n",
        "\n",
        "# Podemos calcular a média também para colocar na legenda\n",
        "\n",
        "# média = 149.5\n",
        "# cor = \"#FA8072\"\n",
        "# plt.axvline(média, color=cor, label=\"Média_Largura: 149,5\")\n",
        "# plt.legend()\n",
        "\n",
        "plt.grid()\n",
        "\n",
        "# Colocando legenda nos Eixos\n",
        "plt.xlabel(\"Largura (cm)\")\n",
        "plt.ylabel(\"Frequência dos dados\")\n",
        "\n",
        "plt.tight_layout()\n",
        " \n",
        "\n",
        "plt.show()"
      ]
    }
  ]
}