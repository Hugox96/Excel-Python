{
  "nbformat": 4,
  "nbformat_minor": 0,
  "metadata": {
    "colab": {
      "name": "Gráficos_Python.ipynb",
      "provenance": []
    },
    "kernelspec": {
      "name": "python3",
      "display_name": "Python 3"
    },
    "language_info": {
      "name": "python"
    }
  },
  "cells": [
    {
      "cell_type": "markdown",
      "source": [
        " Criando gráficos em Python.\n",
        "\n",
        " O Python é muito bom para analisar dados e criar gráficos. Vou documentar a criação de alguns gráficos como histogramas e dispersão."
      ],
      "metadata": {
        "id": "gGoG-xKsx32I"
      }
    },
    {
      "cell_type": "markdown",
      "source": [
        "**Histogramas**\n",
        "\n",
        "Criar histogramas com python é fácil utilizando bibliotecas como matplolib e seaborn por exemplo.\n",
        "\n",
        "Escolhi um histograma das idades dos alunos presente no livro que utilizamos na aula de mecânica.\n",
        "\n",
        "Uma das formas é definindo um bom bins, no caso do exemplo abaixo, escolhi um intervalor(range) entre 18 e 38 anos. Mas pode ser feito de um jeito manual também, escolhendo bins = 3 por exemplo."
      ],
      "metadata": {
        "id": "lL2f1QZx0Fte"
      }
    },
    {
      "cell_type": "code",
      "source": [
        "!pip install nbconvert"
      ],
      "metadata": {
        "id": "zD43ew8f-qZU"
      },
      "execution_count": null,
      "outputs": []
    },
    {
      "cell_type": "code",
      "execution_count": null,
      "metadata": {
        "colab": {
          "base_uri": "https://localhost:8080/",
          "height": 314
        },
        "id": "2Lp3yqISufoq",
        "outputId": "b26cbbb8-b9f9-4dc9-a953-7122c473a78c"
      },
      "outputs": [
        {
          "output_type": "stream",
          "name": "stdout",
          "text": [
            "Media das idades 21.333333333333332\n"
          ]
        },
        {
          "output_type": "display_data",
          "data": {
            "text/plain": [
              "<Figure size 432x288 with 1 Axes>"
            ],
            "image/png": "[encoded data removed]"
          },
          "metadata": {
            "needs_background": "light"
          }
        }
      ],
      "source": [
        "#Bibliotecas em python\n",
        "import pandas as pd\n",
        "import matplotlib.pyplot as plt\n",
        "import numpy as np\n",
        "\n",
        "tabela = pd.read_excel('Histogramas.xlsx') #Aqui importamos os dados em Excel\n",
        "\n",
        "\n",
        "# Criando o histograma para os dados da altura\n",
        "# bins = range(17, 38) é o intervalo dos dados entre as idades entre 17 e 38\n",
        "# rwidth : É um parâmetro opcional, é a largura relativa das barras \n",
        "# edgecolor é a cor entre as barras\n",
        "plt.hist(tabela['Idade'], bins=range(17,38),rwidth=1,edgecolor=\"black\")\n",
        "\n",
        "# Colocando o título no histograma\n",
        "plt.title(\"Histograma Idade\")\n",
        "\n",
        "# Podemos calcular a média também para colocar na legenda do histograma, vamos utilizar a biblioteca numpy para isso\n",
        "media_idades = np.mean(tabela[\"Idade\"]) # np é como chamamos a bibioteca numpy e mean(média) a função que vamos utilizar\n",
        "print(\"Media das idades\", media_idades) # mostrando o valor da média: 21 anos\n",
        "\n",
        "# Criando uma legenda para o histograma\n",
        "média = media_idades # Criando uma variável salvar o cálculo de média\n",
        "cor = \"blue\" #Cor da legenda\n",
        "plt.axvline(média, color=cor, label=\"Média_Idade: 21 anos\") #Editando a legenda\n",
        "plt.legend() # Fazendo aparece no gráfico\n",
        "\n",
        "plt.grid() # São as barrinhas do histograma\n",
        "\n",
        "# Colocando legenda nos Eixos\n",
        "plt.xlabel(\"Idade (anos)\")\n",
        "plt.ylabel(\"Número de Alunos\")\n",
        "\n",
        "plt.tight_layout()\n",
        " \n",
        "\n",
        "plt.show() #Plotando o histograma"
      ]
    },
    {
      "cell_type": "code",
      "source": [
        "!jupyter nbconvert --to html CalculosMecanica.ipynb"
      ],
      "metadata": {
        "id": "3YBJOoVl-2PG"
      },
      "execution_count": null,
      "outputs": []
    }
  ]
}