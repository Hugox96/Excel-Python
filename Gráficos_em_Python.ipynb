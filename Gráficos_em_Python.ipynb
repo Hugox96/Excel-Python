{
  "nbformat": 4,
  "nbformat_minor": 0,
  "metadata": {
    "colab": {
      "name": "Gráficos em Python.ipynb",
      "provenance": []
    },
    "kernelspec": {
      "name": "python3",
      "display_name": "Python 3"
    },
    "language_info": {
      "name": "python"
    }
  },
  "cells": [
    {
      "cell_type": "code",
      "execution_count": 7,
      "metadata": {
        "colab": {
          "base_uri": "https://localhost:8080/",
          "height": 297
        },
        "id": "2Lp3yqISufoq",
        "outputId": "ad51db44-3cb7-4750-b9f9-fd9355806cac"
      },
      "outputs": [
        {
          "output_type": "display_data",
          "data": {
            "text/plain": [
              "<Figure size 432x288 with 1 Axes>"
            ],
            "image/png": "[encoded data removed]"
          },
          "metadata": {
            "needs_background": "light"
          }
        }
      ],
      "source": [
        "import pandas as pd\n",
        "import matplotlib.pyplot as plt\n",
        "import numpy as np\n",
        "\n",
        "tabela = pd.read_excel('Histogramas.xlsx') #aqui irá ler os dados em Excel\n",
        "#display(tabela) #vamos imprimir a tabelo de um jeito mais bonito\n",
        "\n",
        "\n",
        "# Criando o histograma para os dados da largura, com o int\n",
        "plt.hist(tabela['Idade'], bins= 9, edgecolor=\"black\")\n",
        "\n",
        "# Colocando o título no histograma\n",
        "plt.title(\"Histograma Largura (cm)\")\n",
        "\n",
        "# média = 149.5\n",
        "# cor = \"#FA8072\"\n",
        "# plt.axvline(média, color=cor, label=\"Média_Largura: 149,5\")\n",
        "# plt.legend()\n",
        "\n",
        "plt.grid()\n",
        "\n",
        "# Colocando legenda nos Eixos\n",
        "plt.xlabel(\"Largura (cm)\")\n",
        "plt.ylabel(\"Frequência dos dados\")\n",
        "\n",
        "plt.tight_layout()\n",
        " \n",
        "\n",
        "plt.show()"
      ]
    }
  ]
}