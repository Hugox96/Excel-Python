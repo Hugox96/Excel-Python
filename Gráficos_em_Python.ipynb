{
  "nbformat": 4,
  "nbformat_minor": 0,
  "metadata": {
    "colab": {
      "name": "Gráficos_Python.ipynb",
      "provenance": []
    },
    "kernelspec": {
      "name": "python3",
      "display_name": "Python 3"
    },
    "language_info": {
      "name": "python"
    }
  },
  "cells": [
    {
      "cell_type": "markdown",
      "source": [
        " Criando gráficos em Python.\n",
        "\n",
        " O Python é muito bom para analisar dados e criar gráficos. Vou documentar a criação de alguns gráficos como histogramas e dispersão."
      ],
      "metadata": {
        "id": "gGoG-xKsx32I"
      }
    },
    {
      "cell_type": "markdown",
      "source": [
        "**Histogramas**\n",
        "\n",
        "Criar histogramas com python é fácil utilizando bibliotecas como matplolib e seaborn por exemplo.\n",
        "\n",
        "Escolhi um histograma das idades dos alunos presente no livro que utilizamos na aula de mecânica.\n",
        "\n",
        "Uma das formas é definindo um bom bins, no caso do exemplo abaixo, escolhi um intervalor(range) entre 18 e 38 anos. Mas pode ser feito de um jeito manual também, escolhendo bins = 3 por exemplo."
      ],
      "metadata": {
        "id": "lL2f1QZx0Fte"
      }
    },
    {
      "cell_type": "code",
      "source": [
        "!pip install nbconvert"
      ],
      "metadata": {
        "id": "zD43ew8f-qZU"
      },
      "execution_count": null,
      "outputs": []
    },
    {
      "cell_type": "code",
      "execution_count": null,
      "metadata": {
        "colab": {
          "base_uri": "https://localhost:8080/",
          "height": 314
        },
        "id": "2Lp3yqISufoq",
        "outputId": "398c39ef-56a8-419e-c554-c73cdeddd17a"
      },
      "outputs": [
        {
          "output_type": "stream",
          "name": "stdout",
          "text": [
            "Media das idades 21.333333333333332\n"
          ]
        },
        {
          "output_type": "display_data",
          "data": {
            "text/plain": [
              "<Figure size 432x288 with 1 Axes>"
            ],
            "image/png": "[encoded data removed]"
          },
          "metadata": {
            "needs_background": "light"
          }
        }
      ],
      "source": [
        "#Bibliotecas em python\n",
        "import pandas as pd\n",
        "import matplotlib.pyplot as plt\n",
        "import numpy as np\n",
        "\n",
        "tabela = pd.read_excel(\"Histogramas.xlsx\") #Aqui importamos os dados em Excel\n",
        "\n",
        "\n",
        "# Criando o histograma para os dados da altura\n",
        "# bins = range(17, 38) é o intervalo dos dados entre as idades entre 17 e 38\n",
        "# rwidth : É um parâmetro opcional, é a largura relativa das barras \n",
        "# edgecolor é a cor entre as barras\n",
        "plt.hist(tabela['Idade'], bins=range(17,38),rwidth=1,edgecolor=\"black\")\n",
        "\n",
        "# Colocando o título no histograma\n",
        "plt.title(\"Histograma Idade\")\n",
        "\n",
        "# Podemos calcular a média também para colocar na legenda do histograma, vamos utilizar a biblioteca numpy para isso\n",
        "media_idades = np.mean(tabela[\"Idade\"]) # np é como chamamos a bibioteca numpy e mean(média) a função que vamos utilizar\n",
        "print(\"Media das idades\", media_idades) # mostrando o valor da média: 21 anos\n",
        "\n",
        "# Criando uma legenda para o histograma\n",
        "média = media_idades # Criando uma variável salvar o cálculo de média\n",
        "cor = \"blue\" #Cor da legenda\n",
        "plt.axvline(média, color=cor, label=\"Média_Idade: 21 anos\") #Editando a legenda\n",
        "plt.legend() # Fazendo aparece no gráfico\n",
        "\n",
        "plt.grid() # São as barrinhas do histograma\n",
        "\n",
        "# Colocando legenda nos Eixos\n",
        "plt.xlabel(\"Idade (anos)\")\n",
        "plt.ylabel(\"Número de Alunos\")\n",
        "\n",
        "plt.tight_layout()\n",
        " \n",
        "\n",
        "plt.show() #Plotando o histograma"
      ]
    },
    {
      "cell_type": "markdown",
      "source": [
        "Agora vamos criar o gráfico de dispersão no python, é bem tranquilo também. Só precisamos utilizar os dados das 2 grandezas que estamos trabalhando.\n",
        "\n",
        "Uma coisa que é interessante também é calcular a **covariancia** dos dados para analisar o quão correlacionados eles são e o coeficente de Pearson.\n",
        "\n",
        "**Coeficiente de correlação linear de Pearson(r) que varia o intervalo entre -1 e 1.**\n",
        "\n",
        "\n",
        "\\begin{equation}\n",
        " \\boxed{r = \\frac{\\sigma_{xy}}{\\sigma_{x}\\sigma_{y}}} \n",
        "\\end{equation}\n",
        "\n"
      ],
      "metadata": {
        "id": "yOs-JHXY9f2Y"
      }
    },
    {
      "cell_type": "code",
      "source": [
        "#Bibliotecas que vamos utilizar\n",
        "import pandas as pd # Utilizamos para importar os dados do excel\n",
        "import matplotlib.pyplot as plt # Utilizamos para editar o gráfico\n",
        "import numpy as np #Utilizamos para realizar os cálculos\n",
        "\n",
        "from numpy import std\n",
        "\n",
        "tabela = pd.read_excel('/content/Gráfico_de_Dispersão(FG).xlsx') #aqui irá ler os dados em Excel\n",
        "display(tabela) #vamos imprimir a tabelo de um jeito mais \n",
        "\n",
        "# Vamos calcular a covariancia para avaliar a correlação com a função cov\n",
        "covariancia = np.cov(tabela[\"F(gf)\"], tabela[\"l(mm)\"])[0][1]\n",
        "print(\"A covariancia entre F(fg) e l(mm) é: \", covariancia)\n",
        "\n",
        "# Agora vamos calcular o desvio padrão de F e l, é bem simples utilizando a função std\n",
        "dp_F = np.std(tabela[\"F(gf)\"])\n",
        "dp_L = np.std(tabela[\"l(mm)\"])\n",
        "\n",
        "#Calculando o coefiente de Person, quanto mais próximo de 1 mais forte é a correlação\n",
        "r = covariancia/(dp_F*dp_L)\n",
        "print(\"Coeficiente de Pearson (r) =\", r)\n",
        "\n",
        "\n",
        "plt.scatter(tabela['F(gf)'],tabela['l(mm)'],) #Aqui posso criar um gráfico de dispersão com os eixos x e y\n",
        "plt.xlabel(\"F(gf)\") #Colocando legendas no eixo x\n",
        "plt.ylabel(\"l(mm)\") #Colocando legendas no eixo \n",
        "plt.title(\"Gráfico de dispersão\") #Colocando o titulo\n",
        "\n",
        "plt.grid()\n",
        "\n",
        "plt.show()"
      ],
      "metadata": {
        "colab": {
          "base_uri": "https://localhost:8080/",
          "height": 581
        },
        "id": "KRq6iYDE-L3P",
        "outputId": "cd89c7b1-0ee2-4c36-ac13-c1ea9b4e9698"
      },
      "execution_count": 16,
      "outputs": [
        {
          "output_type": "display_data",
          "data": {
            "text/plain": [
              "   F(gf)  l(mm)    Media F (gf)      Media l(mm)\n",
              "0      3    9.2       11.714286        35.085714\n",
              "1      4   12.2  DesvioPadrao F  Desvio Padrão l\n",
              "2      5   15.0        8.557926        25.530533\n",
              "3     10   30.0             NaN              NaN\n",
              "4     15   44.6             NaN              NaN\n",
              "5     20   59.5             NaN              NaN\n",
              "6     25   75.1             NaN              NaN"
            ],
            "text/html": [
              "\n",
              "  <div id=\"df-ee968094-efbc-4af2-8622-744825f7a056\">\n",
              "    <div class=\"colab-df-container\">\n",
              "      <div>\n",
              "<style scoped>\n",
              "    .dataframe tbody tr th:only-of-type {\n",
              "        vertical-align: middle;\n",
              "    }\n",
              "\n",
              "    .dataframe tbody tr th {\n",
              "        vertical-align: top;\n",
              "    }\n",
              "\n",
              "    .dataframe thead th {\n",
              "        text-align: right;\n",
              "    }\n",
              "</style>\n",
              "<table border=\"1\" class=\"dataframe\">\n",
              "  <thead>\n",
              "    <tr style=\"text-align: right;\">\n",
              "      <th></th>\n",
              "      <th>F(gf)</th>\n",
              "      <th>l(mm)</th>\n",
              "      <th>Media F (gf)</th>\n",
              "      <th>Media l(mm)</th>\n",
              "    </tr>\n",
              "  </thead>\n",
              "  <tbody>\n",
              "    <tr>\n",
              "      <th>0</th>\n",
              "      <td>3</td>\n",
              "      <td>9.2</td>\n",
              "      <td>11.714286</td>\n",
              "      <td>35.085714</td>\n",
              "    </tr>\n",
              "    <tr>\n",
              "      <th>1</th>\n",
              "      <td>4</td>\n",
              "      <td>12.2</td>\n",
              "      <td>DesvioPadrao F</td>\n",
              "      <td>Desvio Padrão l</td>\n",
              "    </tr>\n",
              "    <tr>\n",
              "      <th>2</th>\n",
              "      <td>5</td>\n",
              "      <td>15.0</td>\n",
              "      <td>8.557926</td>\n",
              "      <td>25.530533</td>\n",
              "    </tr>\n",
              "    <tr>\n",
              "      <th>3</th>\n",
              "      <td>10</td>\n",
              "      <td>30.0</td>\n",
              "      <td>NaN</td>\n",
              "      <td>NaN</td>\n",
              "    </tr>\n",
              "    <tr>\n",
              "      <th>4</th>\n",
              "      <td>15</td>\n",
              "      <td>44.6</td>\n",
              "      <td>NaN</td>\n",
              "      <td>NaN</td>\n",
              "    </tr>\n",
              "    <tr>\n",
              "      <th>5</th>\n",
              "      <td>20</td>\n",
              "      <td>59.5</td>\n",
              "      <td>NaN</td>\n",
              "      <td>NaN</td>\n",
              "    </tr>\n",
              "    <tr>\n",
              "      <th>6</th>\n",
              "      <td>25</td>\n",
              "      <td>75.1</td>\n",
              "      <td>NaN</td>\n",
              "      <td>NaN</td>\n",
              "    </tr>\n",
              "  </tbody>\n",
              "</table>\n",
              "</div>\n",
              "      <button class=\"colab-df-convert\" onclick=\"convertToInteractive('df-ee968094-efbc-4af2-8622-744825f7a056')\"\n",
              "              title=\"Convert this dataframe to an interactive table.\"\n",
              "              style=\"display:none;\">\n",
              "        \n",
              "  <svg xmlns=\"http://www.w3.org/2000/svg\" height=\"24px\"viewBox=\"0 0 24 24\"\n",
              "       width=\"24px\">\n",
              "    <path d=\"M0 0h24v24H0V0z\" fill=\"none\"/>\n",
              "    <path d=\"M18.56 5.44l.94 2.06.94-2.06 2.06-.94-2.06-.94-.94-2.06-.94 2.06-2.06.94zm-11 1L8.5 8.5l.94-2.06 2.06-.94-2.06-.94L8.5 2.5l-.94 2.06-2.06.94zm10 10l.94 2.06.94-2.06 2.06-.94-2.06-.94-.94-2.06-.94 2.06-2.06.94z\"/><path d=\"M17.41 7.96l-1.37-1.37c-.4-.4-.92-.59-1.43-.59-.52 0-1.04.2-1.43.59L10.3 9.45l-7.72 7.72c-.78.78-.78 2.05 0 2.83L4 21.41c.39.39.9.59 1.41.59.51 0 1.02-.2 1.41-.59l7.78-7.78 2.81-2.81c.8-.78.8-2.07 0-2.86zM5.41 20L4 18.59l7.72-7.72 1.47 1.35L5.41 20z\"/>\n",
              "  </svg>\n",
              "      </button>\n",
              "      \n",
              "  <style>\n",
              "    .colab-df-container {\n",
              "      display:flex;\n",
              "      flex-wrap:wrap;\n",
              "      gap: 12px;\n",
              "    }\n",
              "\n",
              "    .colab-df-convert {\n",
              "      background-color: #E8F0FE;\n",
              "      border: none;\n",
              "      border-radius: 50%;\n",
              "      cursor: pointer;\n",
              "      display: none;\n",
              "      fill: #1967D2;\n",
              "      height: 32px;\n",
              "      padding: 0 0 0 0;\n",
              "      width: 32px;\n",
              "    }\n",
              "\n",
              "    .colab-df-convert:hover {\n",
              "      background-color: #E2EBFA;\n",
              "      box-shadow: 0px 1px 2px rgba(60, 64, 67, 0.3), 0px 1px 3px 1px rgba(60, 64, 67, 0.15);\n",
              "      fill: #174EA6;\n",
              "    }\n",
              "\n",
              "    [theme=dark] .colab-df-convert {\n",
              "      background-color: #3B4455;\n",
              "      fill: #D2E3FC;\n",
              "    }\n",
              "\n",
              "    [theme=dark] .colab-df-convert:hover {\n",
              "      background-color: #434B5C;\n",
              "      box-shadow: 0px 1px 3px 1px rgba(0, 0, 0, 0.15);\n",
              "      filter: drop-shadow(0px 1px 2px rgba(0, 0, 0, 0.3));\n",
              "      fill: #FFFFFF;\n",
              "    }\n",
              "  </style>\n",
              "\n",
              "      <script>\n",
              "        const buttonEl =\n",
              "          document.querySelector('#df-ee968094-efbc-4af2-8622-744825f7a056 button.colab-df-convert');\n",
              "        buttonEl.style.display =\n",
              "          google.colab.kernel.accessAllowed ? 'block' : 'none';\n",
              "\n",
              "        async function convertToInteractive(key) {\n",
              "          const element = document.querySelector('#df-ee968094-efbc-4af2-8622-744825f7a056');\n",
              "          const dataTable =\n",
              "            await google.colab.kernel.invokeFunction('convertToInteractive',\n",
              "                                                     [key], {});\n",
              "          if (!dataTable) return;\n",
              "\n",
              "          const docLinkHtml = 'Like what you see? Visit the ' +\n",
              "            '<a target=\"_blank\" href=https://colab.research.google.com/notebooks/data_table.ipynb>data table notebook</a>'\n",
              "            + ' to learn more about interactive tables.';\n",
              "          element.innerHTML = '';\n",
              "          dataTable['output_type'] = 'display_data';\n",
              "          await google.colab.output.renderOutput(dataTable, element);\n",
              "          const docLink = document.createElement('div');\n",
              "          docLink.innerHTML = docLinkHtml;\n",
              "          element.appendChild(docLink);\n",
              "        }\n",
              "      </script>\n",
              "    </div>\n",
              "  </div>\n",
              "  "
            ]
          },
          "metadata": {}
        },
        {
          "output_type": "stream",
          "name": "stdout",
          "text": [
            "A covariancia entre F(fg) e l(mm) é:  218.47857142857143\n",
            "Coeficiente de Pearson (r) = 1.1666141552687872\n"
          ]
        },
        {
          "output_type": "display_data",
          "data": {
            "text/plain": [
              "<Figure size 432x288 with 1 Axes>"
            ],
            "image/png": "[encoded data removed]"
          },
          "metadata": {
            "needs_background": "light"
          }
        }
      ]
    },
    {
      "cell_type": "code",
      "source": [
        "!jupyter nbconvert --to html CalculosMecanica.ipynb"
      ],
      "metadata": {
        "id": "3YBJOoVl-2PG"
      },
      "execution_count": null,
      "outputs": []
    }
  ]
}